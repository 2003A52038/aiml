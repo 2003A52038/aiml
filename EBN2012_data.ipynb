{
 "cells": [
  {
   "cell_type": "code",
   "execution_count": 1,
   "id": "498dc106",
   "metadata": {},
   "outputs": [],
   "source": [
    "import pandas as pd"
   ]
  },
  {
   "cell_type": "code",
   "execution_count": 3,
   "id": "d133646a",
   "metadata": {},
   "outputs": [],
   "source": [
    "df=pd.read_excel(\"ENB2012_data.xlsx\")"
   ]
  },
  {
   "cell_type": "code",
   "execution_count": 4,
   "id": "252ef0c7",
   "metadata": {},
   "outputs": [
    {
     "data": {
      "text/html": [
       "<div>\n",
       "<style scoped>\n",
       "    .dataframe tbody tr th:only-of-type {\n",
       "        vertical-align: middle;\n",
       "    }\n",
       "\n",
       "    .dataframe tbody tr th {\n",
       "        vertical-align: top;\n",
       "    }\n",
       "\n",
       "    .dataframe thead th {\n",
       "        text-align: right;\n",
       "    }\n",
       "</style>\n",
       "<table border=\"1\" class=\"dataframe\">\n",
       "  <thead>\n",
       "    <tr style=\"text-align: right;\">\n",
       "      <th></th>\n",
       "      <th>X1</th>\n",
       "      <th>X2</th>\n",
       "      <th>X3</th>\n",
       "      <th>X4</th>\n",
       "      <th>X5</th>\n",
       "      <th>X6</th>\n",
       "      <th>X7</th>\n",
       "      <th>X8</th>\n",
       "      <th>Y1</th>\n",
       "      <th>Y2</th>\n",
       "    </tr>\n",
       "  </thead>\n",
       "  <tbody>\n",
       "    <tr>\n",
       "      <th>0</th>\n",
       "      <td>0.98</td>\n",
       "      <td>514.5</td>\n",
       "      <td>294.0</td>\n",
       "      <td>110.25</td>\n",
       "      <td>7.0</td>\n",
       "      <td>2</td>\n",
       "      <td>0.0</td>\n",
       "      <td>0</td>\n",
       "      <td>15.55</td>\n",
       "      <td>21.33</td>\n",
       "    </tr>\n",
       "    <tr>\n",
       "      <th>1</th>\n",
       "      <td>0.98</td>\n",
       "      <td>514.5</td>\n",
       "      <td>294.0</td>\n",
       "      <td>110.25</td>\n",
       "      <td>7.0</td>\n",
       "      <td>3</td>\n",
       "      <td>0.0</td>\n",
       "      <td>0</td>\n",
       "      <td>15.55</td>\n",
       "      <td>21.33</td>\n",
       "    </tr>\n",
       "    <tr>\n",
       "      <th>2</th>\n",
       "      <td>0.98</td>\n",
       "      <td>514.5</td>\n",
       "      <td>294.0</td>\n",
       "      <td>110.25</td>\n",
       "      <td>7.0</td>\n",
       "      <td>4</td>\n",
       "      <td>0.0</td>\n",
       "      <td>0</td>\n",
       "      <td>15.55</td>\n",
       "      <td>21.33</td>\n",
       "    </tr>\n",
       "    <tr>\n",
       "      <th>3</th>\n",
       "      <td>0.98</td>\n",
       "      <td>514.5</td>\n",
       "      <td>294.0</td>\n",
       "      <td>110.25</td>\n",
       "      <td>7.0</td>\n",
       "      <td>5</td>\n",
       "      <td>0.0</td>\n",
       "      <td>0</td>\n",
       "      <td>15.55</td>\n",
       "      <td>21.33</td>\n",
       "    </tr>\n",
       "    <tr>\n",
       "      <th>4</th>\n",
       "      <td>0.90</td>\n",
       "      <td>563.5</td>\n",
       "      <td>318.5</td>\n",
       "      <td>122.50</td>\n",
       "      <td>7.0</td>\n",
       "      <td>2</td>\n",
       "      <td>0.0</td>\n",
       "      <td>0</td>\n",
       "      <td>20.84</td>\n",
       "      <td>28.28</td>\n",
       "    </tr>\n",
       "    <tr>\n",
       "      <th>...</th>\n",
       "      <td>...</td>\n",
       "      <td>...</td>\n",
       "      <td>...</td>\n",
       "      <td>...</td>\n",
       "      <td>...</td>\n",
       "      <td>...</td>\n",
       "      <td>...</td>\n",
       "      <td>...</td>\n",
       "      <td>...</td>\n",
       "      <td>...</td>\n",
       "    </tr>\n",
       "    <tr>\n",
       "      <th>763</th>\n",
       "      <td>0.64</td>\n",
       "      <td>784.0</td>\n",
       "      <td>343.0</td>\n",
       "      <td>220.50</td>\n",
       "      <td>3.5</td>\n",
       "      <td>5</td>\n",
       "      <td>0.4</td>\n",
       "      <td>5</td>\n",
       "      <td>17.88</td>\n",
       "      <td>21.40</td>\n",
       "    </tr>\n",
       "    <tr>\n",
       "      <th>764</th>\n",
       "      <td>0.62</td>\n",
       "      <td>808.5</td>\n",
       "      <td>367.5</td>\n",
       "      <td>220.50</td>\n",
       "      <td>3.5</td>\n",
       "      <td>2</td>\n",
       "      <td>0.4</td>\n",
       "      <td>5</td>\n",
       "      <td>16.54</td>\n",
       "      <td>16.88</td>\n",
       "    </tr>\n",
       "    <tr>\n",
       "      <th>765</th>\n",
       "      <td>0.62</td>\n",
       "      <td>808.5</td>\n",
       "      <td>367.5</td>\n",
       "      <td>220.50</td>\n",
       "      <td>3.5</td>\n",
       "      <td>3</td>\n",
       "      <td>0.4</td>\n",
       "      <td>5</td>\n",
       "      <td>16.44</td>\n",
       "      <td>17.11</td>\n",
       "    </tr>\n",
       "    <tr>\n",
       "      <th>766</th>\n",
       "      <td>0.62</td>\n",
       "      <td>808.5</td>\n",
       "      <td>367.5</td>\n",
       "      <td>220.50</td>\n",
       "      <td>3.5</td>\n",
       "      <td>4</td>\n",
       "      <td>0.4</td>\n",
       "      <td>5</td>\n",
       "      <td>16.48</td>\n",
       "      <td>16.61</td>\n",
       "    </tr>\n",
       "    <tr>\n",
       "      <th>767</th>\n",
       "      <td>0.62</td>\n",
       "      <td>808.5</td>\n",
       "      <td>367.5</td>\n",
       "      <td>220.50</td>\n",
       "      <td>3.5</td>\n",
       "      <td>5</td>\n",
       "      <td>0.4</td>\n",
       "      <td>5</td>\n",
       "      <td>16.64</td>\n",
       "      <td>16.03</td>\n",
       "    </tr>\n",
       "  </tbody>\n",
       "</table>\n",
       "<p>768 rows × 10 columns</p>\n",
       "</div>"
      ],
      "text/plain": [
       "       X1     X2     X3      X4   X5  X6   X7  X8     Y1     Y2\n",
       "0    0.98  514.5  294.0  110.25  7.0   2  0.0   0  15.55  21.33\n",
       "1    0.98  514.5  294.0  110.25  7.0   3  0.0   0  15.55  21.33\n",
       "2    0.98  514.5  294.0  110.25  7.0   4  0.0   0  15.55  21.33\n",
       "3    0.98  514.5  294.0  110.25  7.0   5  0.0   0  15.55  21.33\n",
       "4    0.90  563.5  318.5  122.50  7.0   2  0.0   0  20.84  28.28\n",
       "..    ...    ...    ...     ...  ...  ..  ...  ..    ...    ...\n",
       "763  0.64  784.0  343.0  220.50  3.5   5  0.4   5  17.88  21.40\n",
       "764  0.62  808.5  367.5  220.50  3.5   2  0.4   5  16.54  16.88\n",
       "765  0.62  808.5  367.5  220.50  3.5   3  0.4   5  16.44  17.11\n",
       "766  0.62  808.5  367.5  220.50  3.5   4  0.4   5  16.48  16.61\n",
       "767  0.62  808.5  367.5  220.50  3.5   5  0.4   5  16.64  16.03\n",
       "\n",
       "[768 rows x 10 columns]"
      ]
     },
     "execution_count": 4,
     "metadata": {},
     "output_type": "execute_result"
    }
   ],
   "source": [
    "df\n"
   ]
  },
  {
   "cell_type": "code",
   "execution_count": 5,
   "id": "1c2af1cd",
   "metadata": {},
   "outputs": [
    {
     "data": {
      "text/html": [
       "<div>\n",
       "<style scoped>\n",
       "    .dataframe tbody tr th:only-of-type {\n",
       "        vertical-align: middle;\n",
       "    }\n",
       "\n",
       "    .dataframe tbody tr th {\n",
       "        vertical-align: top;\n",
       "    }\n",
       "\n",
       "    .dataframe thead th {\n",
       "        text-align: right;\n",
       "    }\n",
       "</style>\n",
       "<table border=\"1\" class=\"dataframe\">\n",
       "  <thead>\n",
       "    <tr style=\"text-align: right;\">\n",
       "      <th></th>\n",
       "      <th>X1</th>\n",
       "      <th>X2</th>\n",
       "      <th>X3</th>\n",
       "      <th>X4</th>\n",
       "      <th>X5</th>\n",
       "      <th>X6</th>\n",
       "      <th>X7</th>\n",
       "      <th>X8</th>\n",
       "      <th>Y1</th>\n",
       "      <th>Y2</th>\n",
       "    </tr>\n",
       "  </thead>\n",
       "  <tbody>\n",
       "    <tr>\n",
       "      <th>0</th>\n",
       "      <td>0.98</td>\n",
       "      <td>514.5</td>\n",
       "      <td>294.0</td>\n",
       "      <td>110.25</td>\n",
       "      <td>7.0</td>\n",
       "      <td>2</td>\n",
       "      <td>0.0</td>\n",
       "      <td>0</td>\n",
       "      <td>15.55</td>\n",
       "      <td>21.33</td>\n",
       "    </tr>\n",
       "    <tr>\n",
       "      <th>1</th>\n",
       "      <td>0.98</td>\n",
       "      <td>514.5</td>\n",
       "      <td>294.0</td>\n",
       "      <td>110.25</td>\n",
       "      <td>7.0</td>\n",
       "      <td>3</td>\n",
       "      <td>0.0</td>\n",
       "      <td>0</td>\n",
       "      <td>15.55</td>\n",
       "      <td>21.33</td>\n",
       "    </tr>\n",
       "    <tr>\n",
       "      <th>2</th>\n",
       "      <td>0.98</td>\n",
       "      <td>514.5</td>\n",
       "      <td>294.0</td>\n",
       "      <td>110.25</td>\n",
       "      <td>7.0</td>\n",
       "      <td>4</td>\n",
       "      <td>0.0</td>\n",
       "      <td>0</td>\n",
       "      <td>15.55</td>\n",
       "      <td>21.33</td>\n",
       "    </tr>\n",
       "    <tr>\n",
       "      <th>3</th>\n",
       "      <td>0.98</td>\n",
       "      <td>514.5</td>\n",
       "      <td>294.0</td>\n",
       "      <td>110.25</td>\n",
       "      <td>7.0</td>\n",
       "      <td>5</td>\n",
       "      <td>0.0</td>\n",
       "      <td>0</td>\n",
       "      <td>15.55</td>\n",
       "      <td>21.33</td>\n",
       "    </tr>\n",
       "    <tr>\n",
       "      <th>4</th>\n",
       "      <td>0.90</td>\n",
       "      <td>563.5</td>\n",
       "      <td>318.5</td>\n",
       "      <td>122.50</td>\n",
       "      <td>7.0</td>\n",
       "      <td>2</td>\n",
       "      <td>0.0</td>\n",
       "      <td>0</td>\n",
       "      <td>20.84</td>\n",
       "      <td>28.28</td>\n",
       "    </tr>\n",
       "  </tbody>\n",
       "</table>\n",
       "</div>"
      ],
      "text/plain": [
       "     X1     X2     X3      X4   X5  X6   X7  X8     Y1     Y2\n",
       "0  0.98  514.5  294.0  110.25  7.0   2  0.0   0  15.55  21.33\n",
       "1  0.98  514.5  294.0  110.25  7.0   3  0.0   0  15.55  21.33\n",
       "2  0.98  514.5  294.0  110.25  7.0   4  0.0   0  15.55  21.33\n",
       "3  0.98  514.5  294.0  110.25  7.0   5  0.0   0  15.55  21.33\n",
       "4  0.90  563.5  318.5  122.50  7.0   2  0.0   0  20.84  28.28"
      ]
     },
     "execution_count": 5,
     "metadata": {},
     "output_type": "execute_result"
    }
   ],
   "source": [
    "df.head()"
   ]
  },
  {
   "cell_type": "code",
   "execution_count": 11,
   "id": "aa08f6fe",
   "metadata": {},
   "outputs": [
    {
     "name": "stdout",
     "output_type": "stream",
     "text": [
      "0      0.98\n",
      "1      0.98\n",
      "2      0.98\n",
      "3      0.98\n",
      "4      0.90\n",
      "       ... \n",
      "763    0.64\n",
      "764    0.62\n",
      "765    0.62\n",
      "766    0.62\n",
      "767    0.62\n",
      "Name: X1, Length: 768, dtype: float64 0      514.5\n",
      "1      514.5\n",
      "2      514.5\n",
      "3      514.5\n",
      "4      563.5\n",
      "       ...  \n",
      "763    784.0\n",
      "764    808.5\n",
      "765    808.5\n",
      "766    808.5\n",
      "767    808.5\n",
      "Name: X2, Length: 768, dtype: float64 0      294.0\n",
      "1      294.0\n",
      "2      294.0\n",
      "3      294.0\n",
      "4      318.5\n",
      "       ...  \n",
      "763    343.0\n",
      "764    367.5\n",
      "765    367.5\n",
      "766    367.5\n",
      "767    367.5\n",
      "Name: X3, Length: 768, dtype: float64 0      110.25\n",
      "1      110.25\n",
      "2      110.25\n",
      "3      110.25\n",
      "4      122.50\n",
      "        ...  \n",
      "763    220.50\n",
      "764    220.50\n",
      "765    220.50\n",
      "766    220.50\n",
      "767    220.50\n",
      "Name: X4, Length: 768, dtype: float64 0      7.0\n",
      "1      7.0\n",
      "2      7.0\n",
      "3      7.0\n",
      "4      7.0\n",
      "      ... \n",
      "763    3.5\n",
      "764    3.5\n",
      "765    3.5\n",
      "766    3.5\n",
      "767    3.5\n",
      "Name: X5, Length: 768, dtype: float64 0      2\n",
      "1      3\n",
      "2      4\n",
      "3      5\n",
      "4      2\n",
      "      ..\n",
      "763    5\n",
      "764    2\n",
      "765    3\n",
      "766    4\n",
      "767    5\n",
      "Name: X6, Length: 768, dtype: int64 0      0.0\n",
      "1      0.0\n",
      "2      0.0\n",
      "3      0.0\n",
      "4      0.0\n",
      "      ... \n",
      "763    0.4\n",
      "764    0.4\n",
      "765    0.4\n",
      "766    0.4\n",
      "767    0.4\n",
      "Name: X7, Length: 768, dtype: float64 0      0\n",
      "1      0\n",
      "2      0\n",
      "3      0\n",
      "4      0\n",
      "      ..\n",
      "763    5\n",
      "764    5\n",
      "765    5\n",
      "766    5\n",
      "767    5\n",
      "Name: X8, Length: 768, dtype: int64 0      15.55\n",
      "1      15.55\n",
      "2      15.55\n",
      "3      15.55\n",
      "4      20.84\n",
      "       ...  \n",
      "763    17.88\n",
      "764    16.54\n",
      "765    16.44\n",
      "766    16.48\n",
      "767    16.64\n",
      "Name: Y1, Length: 768, dtype: float64 0      21.33\n",
      "1      21.33\n",
      "2      21.33\n",
      "3      21.33\n",
      "4      28.28\n",
      "       ...  \n",
      "763    21.40\n",
      "764    16.88\n",
      "765    17.11\n",
      "766    16.61\n",
      "767    16.03\n",
      "Name: Y2, Length: 768, dtype: float64\n"
     ]
    }
   ],
   "source": [
    "x1=df['X1']\n",
    "x2=df['X2']\n",
    "x3=df['X3']\n",
    "x4=df['X4']\n",
    "x5=df['X5']\n",
    "x6=df['X6']\n",
    "x7=df['X7']\n",
    "x8=df['X8']\n",
    "x9=df['Y1']\n",
    "y=df['Y2']\n",
    "print(x1,x2,x3,x4,x5,x6,x7,x8,x9,y)"
   ]
  },
  {
   "cell_type": "code",
   "execution_count": 15,
   "id": "9ae3fbdd",
   "metadata": {},
   "outputs": [
    {
     "name": "stdout",
     "output_type": "stream",
     "text": [
      "2 3 4 5 6 7 8 9 10 11 380.3468952178955\n",
      "3 4 5 6 7 8 9 10 11 12 195.35895538330078\n",
      "4 5 6 7 8 9 10 11 12 13 232.15815353393555\n",
      "5 6 7 8 9 10 11 12 13 14 490.74454498291016\n",
      "6 7 8 9 10 11 12 13 14 15 471.11802673339844\n",
      "7 8 9 10 11 12 13 14 15 16 173.27877044677734\n",
      "8 9 10 11 12 13 14 15 16 17 97.22649383544922\n",
      "9 10 11 12 13 14 15 16 17 18 242.96141052246094\n",
      "10 11 12 13 14 15 16 17 18 19 110.48362731933594\n",
      "11 12 13 14 15 16 17 18 19 20 199.79293823242188\n",
      "12 13 14 15 16 17 18 19 20 21 10.889297485351562\n",
      "13 14 15 16 17 18 19 20 21 22 43.77301025390625\n",
      "14 15 16 17 18 19 20 21 22 23 298.4435119628906\n",
      "15 16 17 18 19 20 21 22 23 24 274.901611328125\n",
      "16 17 18 19 20 21 22 23 24 25 473.1465148925781\n",
      "17 18 19 20 21 22 23 24 25 26 393.1788024902344\n",
      "18 19 20 21 22 23 24 25 26 27 34.998291015625\n",
      "19 20 21 22 23 24 25 26 27 28 398.60418701171875\n",
      "20 21 22 23 24 25 26 27 28 29 483.99749755859375\n",
      "21 22 23 24 25 26 27 28 29 30 291.17919921875\n",
      "22 23 24 25 26 27 28 29 30 31 320.14727783203125\n",
      "23 24 25 26 27 28 29 30 31 32 70.9022216796875\n",
      "24 25 26 27 28 29 30 31 32 33 43.4444580078125\n",
      "25 26 27 28 29 30 31 32 33 34 237.77301025390625\n",
      "26 27 28 29 30 31 32 33 34 35 153.8902587890625\n",
      "27 28 29 30 31 32 33 34 35 36 291.7935791015625\n",
      "28 29 30 31 32 33 34 35 36 37 151.485107421875\n",
      "29 30 31 32 33 34 35 36 37 38 232.9622802734375\n",
      "30 31 32 33 34 35 36 37 38 39 36.2276611328125\n",
      "31 32 33 34 35 36 37 38 39 40 61.280029296875\n",
      "32 33 34 35 36 37 38 39 40 41 308.120361328125\n",
      "33 34 35 36 37 38 39 40 41 42 276.7464599609375\n",
      "34 35 36 37 38 39 40 41 42 43 467.1602783203125\n",
      "35 36 37 38 39 40 41 42 43 44 379.362060546875\n",
      "36 37 38 39 40 41 42 43 44 45 13.349853515625\n",
      "37 38 39 40 41 42 43 44 45 46 369.125\n",
      "38 39 40 41 42 43 44 45 46 47 446.686279296875\n",
      "39 40 41 42 43 44 45 46 47 48 246.036865234375\n",
      "40 41 42 43 44 45 46 47 48 49 267.174072265625\n",
      "41 42 43 44 45 46 47 48 49 50 10.096923828125\n",
      "42 43 44 45 46 47 48 49 50 51 474.808349609375\n",
      "43 44 45 46 47 48 49 50 51 52 161.3046875\n",
      "44 45 46 47 48 49 50 51 52 53 69.591796875\n",
      "45 46 47 48 49 50 51 52 53 54 199.663818359375\n",
      "46 47 48 49 50 51 52 53 54 55 51.523681640625\n",
      "47 48 49 50 51 52 53 54 55 56 125.16943359375\n",
      "48 49 50 51 52 53 54 55 56 57 420.60205078125\n",
      "49 50 51 52 53 54 55 56 57 58 437.82568359375\n",
      "50 51 52 53 54 55 56 57 58 59 176.833251953125\n",
      "51 52 53 54 55 56 57 58 59 60 137.627685546875\n",
      "52 53 54 55 56 57 58 59 60 61 320.209228515625\n",
      "53 54 55 56 57 58 59 60 61 62 224.57958984375\n",
      "54 55 56 57 58 59 60 61 62 63 350.7373046875\n",
      "55 56 57 58 59 60 61 62 63 64 198.68212890625\n",
      "56 57 58 59 60 61 62 63 64 65 268.41259765625\n",
      "57 58 59 60 61 62 63 64 65 66 59.93115234375\n",
      "58 59 60 61 62 63 64 65 66 67 73.23828125\n",
      "59 60 61 62 63 64 65 66 67 68 308.32861328125\n",
      "60 61 62 63 64 65 66 67 68 69 265.21044921875\n",
      "61 62 63 64 65 66 67 68 69 70 443.87548828125\n",
      "62 63 64 65 66 67 68 69 70 71 344.3310546875\n",
      "63 64 65 66 67 68 69 70 71 72 466.5693359375\n",
      "64 65 66 67 68 69 70 71 72 73 310.6005859375\n",
      "65 66 67 68 69 70 71 72 73 74 376.412109375\n",
      "66 67 68 69 70 71 72 73 74 75 164.0185546875\n",
      "67 68 69 70 71 72 73 74 75 76 173.404296875\n",
      "68 69 70 71 72 73 74 75 76 77 404.5849609375\n",
      "69 70 71 72 73 74 75 76 77 78 357.546875\n",
      "70 71 72 73 74 75 76 77 78 79 32.2939453125\n",
      "71 72 73 74 75 76 77 78 79 80 428.8369140625\n",
      "72 73 74 75 76 77 78 79 80 81 47.16455078125\n",
      "73 74 75 76 77 78 79 80 81 82 387.275390625\n",
      "74 75 76 77 78 79 80 81 82 83 449.1796875\n",
      "75 76 77 78 79 80 81 82 83 84 232.8623046875\n",
      "76 77 78 79 80 81 82 83 84 85 238.3349609375\n",
      "77 78 79 80 81 82 83 84 85 86 465.59765625\n",
      "78 79 80 81 82 83 84 85 86 87 414.6474609375\n",
      "79 80 81 82 83 84 85 86 87 88 85.482421875\n",
      "80 81 82 83 84 85 86 87 88 89 478.103515625\n",
      "81 82 83 84 85 86 87 88 89 90 92.5146484375\n",
      "82 83 84 85 86 87 88 89 90 91 428.7119140625\n",
      "83 84 85 86 87 88 89 90 91 92 486.6884765625\n",
      "84 85 86 87 88 89 90 91 92 93 266.470703125\n",
      "85 86 87 88 89 90 91 92 93 94 268.0263671875\n",
      "86 87 88 89 90 91 92 93 94 95 491.3720703125\n",
      "87 88 89 90 91 92 93 94 95 96 436.5107421875\n",
      "88 89 90 91 92 93 94 95 96 97 103.423828125\n",
      "89 90 91 92 93 94 95 96 97 98 492.1337890625\n",
      "90 91 92 93 94 95 96 97 98 99 102.625\n",
      "91 92 93 94 95 96 97 98 99 100 434.9091796875\n",
      "92 93 94 95 96 97 98 99 100 101 488.9833984375\n",
      "93 94 95 96 97 98 99 100 101 102 264.826171875\n",
      "94 95 96 97 98 99 100 101 102 103 262.4677734375\n",
      "95 96 97 98 99 100 101 102 103 104 481.90234375\n",
      "96 97 98 99 100 101 102 103 104 105 423.1201171875\n",
      "97 98 99 100 101 102 103 104 105 106 86.123046875\n",
      "98 99 100 101 102 103 104 105 106 107 470.923828125\n",
      "99 100 101 102 103 104 105 106 107 108 77.48828125\n",
      "100 101 102 103 104 105 106 107 108 109 405.859375\n"
     ]
    }
   ],
   "source": [
    "import numpy as np\n",
    "\n",
    "e=[]\n",
    "ee=[]\n",
    "def linear(m1,m2,m3,m4,m5,m6,m7,m8,m9,c):\n",
    "  sum=0\n",
    "  yp=[]\n",
    "\n",
    "  for i in range(0,500):\n",
    "    yp.append(m1*x1[i]+m2*x2[i]+m3*x3[i]+m4*x4[i]+m5*x5[i]+m6*x6[i]+m7*x7[i]+m8*x8[i]+m9*x9[i]+c)\n",
    "    g=(y[i]-yp[i])**2\n",
    "    sum=sum+g\n",
    "  e.append(sum)\n",
    "  ee.append(np.mod(sum,500))\n",
    "  print(m1,m2,m3,m4,m5,m6,m7,m8,m9,c,np.mod(sum,500))\n",
    "  sum=0\n",
    "\n",
    "\n",
    "for i in range(1,100):\n",
    "  linear(1+i,2+i,3+i,4+i,5+i,6+i,7+i,8+i,9+i,10+i)"
   ]
  },
  {
   "cell_type": "code",
   "execution_count": 16,
   "id": "c7b79fa5",
   "metadata": {},
   "outputs": [
    {
     "name": "stdout",
     "output_type": "stream",
     "text": [
      "[380.3468952178955, 195.35895538330078, 232.15815353393555, 490.74454498291016, 471.11802673339844, 173.27877044677734, 97.22649383544922, 242.96141052246094, 110.48362731933594, 199.79293823242188, 10.889297485351562, 43.77301025390625, 298.4435119628906, 274.901611328125, 473.1465148925781, 393.1788024902344, 34.998291015625, 398.60418701171875, 483.99749755859375, 291.17919921875, 320.14727783203125, 70.9022216796875, 43.4444580078125, 237.77301025390625, 153.8902587890625, 291.7935791015625, 151.485107421875, 232.9622802734375, 36.2276611328125, 61.280029296875, 308.120361328125, 276.7464599609375, 467.1602783203125, 379.362060546875, 13.349853515625, 369.125, 446.686279296875, 246.036865234375, 267.174072265625, 10.096923828125, 474.808349609375, 161.3046875, 69.591796875, 199.663818359375, 51.523681640625, 125.16943359375, 420.60205078125, 437.82568359375, 176.833251953125, 137.627685546875, 320.209228515625, 224.57958984375, 350.7373046875, 198.68212890625, 268.41259765625, 59.93115234375, 73.23828125, 308.32861328125, 265.21044921875, 443.87548828125, 344.3310546875, 466.5693359375, 310.6005859375, 376.412109375, 164.0185546875, 173.404296875, 404.5849609375, 357.546875, 32.2939453125, 428.8369140625, 47.16455078125, 387.275390625, 449.1796875, 232.8623046875, 238.3349609375, 465.59765625, 414.6474609375, 85.482421875, 478.103515625, 92.5146484375, 428.7119140625, 486.6884765625, 266.470703125, 268.0263671875, 491.3720703125, 436.5107421875, 103.423828125, 492.1337890625, 102.625, 434.9091796875, 488.9833984375, 264.826171875, 262.4677734375, 481.90234375, 423.1201171875, 86.123046875, 470.923828125, 77.48828125, 405.859375]\n"
     ]
    }
   ],
   "source": [
    "print(ee)"
   ]
  },
  {
   "cell_type": "code",
   "execution_count": 17,
   "id": "41470d4d",
   "metadata": {},
   "outputs": [
    {
     "name": "stdout",
     "output_type": "stream",
     "text": [
      "10.096923828125\n"
     ]
    }
   ],
   "source": [
    "a=np.array(ee).min()\n",
    "print(a)\n",
    "c=np.where(ee==a)"
   ]
  },
  {
   "cell_type": "code",
   "execution_count": 18,
   "id": "6b57c966",
   "metadata": {},
   "outputs": [
    {
     "name": "stdout",
     "output_type": "stream",
     "text": [
      "(array([39], dtype=int64),)\n"
     ]
    }
   ],
   "source": [
    "print(c)"
   ]
  },
  {
   "cell_type": "code",
   "execution_count": 19,
   "id": "489770e7",
   "metadata": {},
   "outputs": [
    {
     "name": "stdout",
     "output_type": "stream",
     "text": [
      "[ 0  1  2  3  4  5  6  7  8  9 10 11 12 13 14 15 16 17 18 19 20 21 22 23\n",
      " 24 25 26 27 28 29 30 31 32 33 34 35 36 37 38 39 40 41 42 43 44 45 46 47\n",
      " 48 49 50 51 52 53 54 55 56 57 58 59 60 61 62 63 64 65 66 67 68 69 70 71\n",
      " 72 73 74 75 76 77 78 79 80 81 82 83 84 85 86 87 88 89 90 91 92 93 94 95\n",
      " 96 97 98]\n"
     ]
    }
   ],
   "source": [
    "ee1=np.arange(0,99)\n",
    "print(ee1)"
   ]
  },
  {
   "cell_type": "code",
   "execution_count": 22,
   "id": "5568d487",
   "metadata": {},
   "outputs": [
    {
     "name": "stdout",
     "output_type": "stream",
     "text": [
      "6 7 8 9 10 11 12 13 14 15 208.2759780883789\n"
     ]
    }
   ],
   "source": [
    "import numpy as np\n",
    "\n",
    "z=[]\n",
    "zz=[]\n",
    "def linear1(m1,m2,m3,m4,m5,m6,m7,m8,m9,c):\n",
    "  sum=0\n",
    "  yp=[]\n",
    "  j=0\n",
    "\n",
    "  for i in range(501,768):\n",
    "    yp.append(m1*x1[i]+m2*x2[i]+m3*x3[i]+m4*x4[i]+m5*x5[i]+m6*x6[i]+m7*x7[i]+m8*x8[i]+m9*x9[i]+c)\n",
    "    g=(y[i]-yp[j])**2\n",
    "    sum=sum+g\n",
    "    j=j+1\n",
    "    sum=sum+g\n",
    "  z.append(sum)\n",
    "  zz.append(np.mod(sum,300))\n",
    "  print(m1,m2,m3,m4,m5,m6,m7,m8,m9,c,np.mod(sum,300))\n",
    "\n",
    "\n",
    "linear1(6, 7, 8, 9, 10, 11, 12, 13, 14, 15)"
   ]
  },
  {
   "cell_type": "code",
   "execution_count": 25,
   "id": "904579b5",
   "metadata": {},
   "outputs": [
    {
     "data": {
      "text/plain": [
       "[<matplotlib.lines.Line2D at 0x23d834360a0>]"
      ]
     },
     "execution_count": 25,
     "metadata": {},
     "output_type": "execute_result"
    },
    {
     "data": {
      "image/png": "[encoded data removed]",
      "text/plain": [
       "<Figure size 432x288 with 1 Axes>"
      ]
     },
     "metadata": {
      "needs_background": "light"
     },
     "output_type": "display_data"
    }
   ],
   "source": [
    "from matplotlib import pyplot as pt\n",
    "pt.plot(ee1,ee)"
   ]
  },
  {
   "cell_type": "code",
   "execution_count": 26,
   "id": "00306823",
   "metadata": {},
   "outputs": [
    {
     "data": {
      "text/plain": [
       "<matplotlib.collections.PathCollection at 0x23d83496f70>"
      ]
     },
     "execution_count": 26,
     "metadata": {},
     "output_type": "execute_result"
    },
    {
     "data": {
      "image/png": "[encoded data removed]",
      "text/plain": [
       "<Figure size 432x288 with 1 Axes>"
      ]
     },
     "metadata": {
      "needs_background": "light"
     },
     "output_type": "display_data"
    }
   ],
   "source": [
    "pt.scatter(x2,y)"
   ]
  },
  {
   "cell_type": "code",
   "execution_count": 27,
   "id": "fbf4b5ac",
   "metadata": {},
   "outputs": [
    {
     "data": {
      "text/plain": [
       "<matplotlib.collections.PathCollection at 0x23d835134c0>"
      ]
     },
     "execution_count": 27,
     "metadata": {},
     "output_type": "execute_result"
    },
    {
     "data": {
      "image/png": "[encoded data removed]",
      "text/plain": [
       "<Figure size 432x288 with 1 Axes>"
      ]
     },
     "metadata": {
      "needs_background": "light"
     },
     "output_type": "display_data"
    }
   ],
   "source": [
    "pt.scatter(x3,y)"
   ]
  },
  {
   "cell_type": "code",
   "execution_count": 28,
   "id": "fc65f0f1",
   "metadata": {},
   "outputs": [
    {
     "data": {
      "text/plain": [
       "<matplotlib.collections.PathCollection at 0x23d8357beb0>"
      ]
     },
     "execution_count": 28,
     "metadata": {},
     "output_type": "execute_result"
    },
    {
     "data": {
      "image/png": "[encoded data removed]",
      "text/plain": [
       "<Figure size 432x288 with 1 Axes>"
      ]
     },
     "metadata": {
      "needs_background": "light"
     },
     "output_type": "display_data"
    }
   ],
   "source": [
    "pt.scatter(x4,y)"
   ]
  },
  {
   "cell_type": "code",
   "execution_count": 29,
   "id": "6622a966",
   "metadata": {},
   "outputs": [
    {
     "data": {
      "text/plain": [
       "<matplotlib.collections.PathCollection at 0x23d835f2130>"
      ]
     },
     "execution_count": 29,
     "metadata": {},
     "output_type": "execute_result"
    },
    {
     "data": {
      "image/png": "[encoded data removed]",
      "text/plain": [
       "<Figure size 432x288 with 1 Axes>"
      ]
     },
     "metadata": {
      "needs_background": "light"
     },
     "output_type": "display_data"
    }
   ],
   "source": [
    "pt.scatter(x5,y)"
   ]
  },
  {
   "cell_type": "code",
   "execution_count": 30,
   "id": "b951bf52",
   "metadata": {},
   "outputs": [
    {
     "data": {
      "text/plain": [
       "<matplotlib.collections.PathCollection at 0x23d83657c70>"
      ]
     },
     "execution_count": 30,
     "metadata": {},
     "output_type": "execute_result"
    },
    {
     "data": {
      "image/png": "[encoded data removed]",
      "text/plain": [
       "<Figure size 432x288 with 1 Axes>"
      ]
     },
     "metadata": {
      "needs_background": "light"
     },
     "output_type": "display_data"
    }
   ],
   "source": [
    "pt.scatter(x6,y)"
   ]
  },
  {
   "cell_type": "code",
   "execution_count": 31,
   "id": "d8e996ec",
   "metadata": {},
   "outputs": [
    {
     "data": {
      "text/plain": [
       "<matplotlib.collections.PathCollection at 0x23d836ce2b0>"
      ]
     },
     "execution_count": 31,
     "metadata": {},
     "output_type": "execute_result"
    },
    {
     "data": {
      "image/png": "[encoded data removed]",
      "text/plain": [
       "<Figure size 432x288 with 1 Axes>"
      ]
     },
     "metadata": {
      "needs_background": "light"
     },
     "output_type": "display_data"
    }
   ],
   "source": [
    "pt.scatter(x7,y)"
   ]
  },
  {
   "cell_type": "code",
   "execution_count": 32,
   "id": "c3bca3de",
   "metadata": {},
   "outputs": [
    {
     "data": {
      "text/plain": [
       "<matplotlib.collections.PathCollection at 0x23d8373e5b0>"
      ]
     },
     "execution_count": 32,
     "metadata": {},
     "output_type": "execute_result"
    },
    {
     "data": {
      "image/png": "[encoded data removed]",
      "text/plain": [
       "<Figure size 432x288 with 1 Axes>"
      ]
     },
     "metadata": {
      "needs_background": "light"
     },
     "output_type": "display_data"
    }
   ],
   "source": [
    "pt.scatter(x8,y)"
   ]
  },
  {
   "cell_type": "code",
   "execution_count": 33,
   "id": "d0ae77cf",
   "metadata": {},
   "outputs": [
    {
     "data": {
      "text/plain": [
       "<matplotlib.collections.PathCollection at 0x23d837a93d0>"
      ]
     },
     "execution_count": 33,
     "metadata": {},
     "output_type": "execute_result"
    },
    {
     "data": {
      "image/png": "[encoded data removed]",
      "text/plain": [
       "<Figure size 432x288 with 1 Axes>"
      ]
     },
     "metadata": {
      "needs_background": "light"
     },
     "output_type": "display_data"
    }
   ],
   "source": [
    "pt.scatter(x9,y)"
   ]
  },
  {
   "cell_type": "code",
   "execution_count": 34,
   "id": "2a5da2b7",
   "metadata": {},
   "outputs": [
    {
     "ename": "NameError",
     "evalue": "name 'data_scaled' is not defined",
     "output_type": "error",
     "traceback": [
      "\u001b[1;31m---------------------------------------------------------------------------\u001b[0m",
      "\u001b[1;31mNameError\u001b[0m                                 Traceback (most recent call last)",
      "\u001b[1;32m~\\AppData\\Local\\Temp/ipykernel_15816/381881930.py\u001b[0m in \u001b[0;36m<module>\u001b[1;34m\u001b[0m\n\u001b[1;32m----> 1\u001b[1;33m \u001b[0mX\u001b[0m\u001b[1;33m=\u001b[0m\u001b[0mdata_scaled\u001b[0m\u001b[1;33m.\u001b[0m\u001b[0miloc\u001b[0m\u001b[1;33m[\u001b[0m\u001b[1;33m:\u001b[0m\u001b[1;33m,\u001b[0m\u001b[1;36m0\u001b[0m\u001b[1;33m:\u001b[0m\u001b[1;36m2\u001b[0m\u001b[1;33m]\u001b[0m\u001b[1;33m\u001b[0m\u001b[1;33m\u001b[0m\u001b[0m\n\u001b[0m\u001b[0;32m      2\u001b[0m \u001b[0mY\u001b[0m\u001b[1;33m=\u001b[0m\u001b[0mdata_scaled\u001b[0m\u001b[1;33m.\u001b[0m\u001b[0miloc\u001b[0m\u001b[1;33m[\u001b[0m\u001b[1;33m:\u001b[0m\u001b[1;33m,\u001b[0m\u001b[1;36m2\u001b[0m\u001b[1;33m:\u001b[0m\u001b[1;36m3\u001b[0m\u001b[1;33m]\u001b[0m\u001b[1;33m\u001b[0m\u001b[1;33m\u001b[0m\u001b[0m\n",
      "\u001b[1;31mNameError\u001b[0m: name 'data_scaled' is not defined"
     ]
    }
   ],
   "source": []
  },
  {
   "cell_type": "code",
   "execution_count": null,
   "id": "7640e5e0",
   "metadata": {},
   "outputs": [],
   "source": []
  }
 ],
 "metadata": {
  "kernelspec": {
   "display_name": "Python 3 (ipykernel)",
   "language": "python",
   "name": "python3"
  },
  "language_info": {
   "codemirror_mode": {
    "name": "ipython",
    "version": 3
   },
   "file_extension": ".py",
   "mimetype": "text/x-python",
   "name": "python",
   "nbconvert_exporter": "python",
   "pygments_lexer": "ipython3",
   "version": "3.9.7"
  }
 },
 "nbformat": 4,
 "nbformat_minor": 5
}
